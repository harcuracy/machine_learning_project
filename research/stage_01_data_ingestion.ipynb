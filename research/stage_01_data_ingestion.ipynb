{
 "cells": [
  {
   "cell_type": "code",
   "execution_count": 2,
   "metadata": {},
   "outputs": [
    {
     "data": {
      "text/plain": [
       "'c:\\\\Users\\\\Dzuels Foundation\\\\mlproject\\\\notebook'"
      ]
     },
     "execution_count": 2,
     "metadata": {},
     "output_type": "execute_result"
    }
   ],
   "source": [
    "%pwd"
   ]
  },
  {
   "cell_type": "code",
   "execution_count": 3,
   "metadata": {},
   "outputs": [
    {
     "name": "stdout",
     "output_type": "stream",
     "text": [
      "c:\\Users\\Dzuels Foundation\\mlproject\n"
     ]
    }
   ],
   "source": [
    "%cd ..\\"
   ]
  },
  {
   "cell_type": "code",
   "execution_count": 7,
   "metadata": {},
   "outputs": [],
   "source": [
    "\n",
    "from src.constant import *\n",
    "from src.logger import logging\n",
    "from src.exception import CustomException\n",
    "import requests\n",
    "import os\n",
    "import zipfile\n",
    "import sys\n",
    "from pathlib import Path\n",
    "from dataclasses import dataclass\n",
    "from src.utils import read_yaml,create_directory\n"
   ]
  },
  {
   "cell_type": "code",
   "execution_count": 14,
   "metadata": {},
   "outputs": [],
   "source": [
    "@dataclass(frozen=True)\n",
    "class DataIngestionConfig:\n",
    "    \"\"\"\n",
    "    Data Ingestion Configuration\n",
    "    \"\"\"\n",
    "\n",
    "    root_dir: Path\n",
    "    source_URL: str \n",
    "    local_data_file: Path\n",
    "    unzip_dir: Path\n",
    "    "
   ]
  },
  {
   "cell_type": "code",
   "execution_count": 15,
   "metadata": {},
   "outputs": [],
   "source": [
    "class ConfigurationManager:\n",
    "    def __init__(self, config_file_path=CONFIG_FILE_PATH,):\n",
    "        self.config = read_yaml(config_file_path)\n",
    "                \n",
    "        create_directory(self.config.artifact_root)\n",
    "        \n",
    "    def get_data_ingestion_config(self):\n",
    "        config = self.config.data_ingestion\n",
    "        \n",
    "        create_directory(config.root_dir)\n",
    "        \n",
    "        data_ingestion_config = DataIngestionConfig(\n",
    "            root_dir= config.root_dir,\n",
    "            source_URL= config.source_URL,\n",
    "            local_data_file= config.local_data_file,\n",
    "            unzip_dir= config.unzip_dir\n",
    "        )\n",
    "        return data_ingestion_config\n",
    "        "
   ]
  },
  {
   "cell_type": "code",
   "execution_count": 16,
   "metadata": {},
   "outputs": [],
   "source": [
    "class DataIngestion:\n",
    "    def __init__(self, config: DataIngestionConfig):\n",
    "        self.config = config\n",
    "    \n",
    "    \n",
    "    def download_file(self):\n",
    "        \"\"\"\n",
    "     Download a file from a URL and save it to the specified file path.\n",
    " \n",
    "     Args:\n",
    "         url (str): The URL to download the file from.\n",
    "         file_path (str): The local path where the file will be saved.\n",
    " \n",
    "     Returns:\n",
    "         None\n",
    "     \"\"\"\n",
    "        try:\n",
    "            url = self.config.source_URL\n",
    "            file_path = self.config.local_data_file\n",
    "            response = requests.get(url)\n",
    "            with open(file_path, 'wb') as f:\n",
    "                f.write(response.content)\n",
    "            logging.info(f\"File downloaded successfully from {url} to {file_path}\")\n",
    "        except Exception as e:\n",
    "            logging.info(f\"Failed to download file from {url}. Error: {str(e)}\")\n",
    "            raise CustomException(e, sys)\n",
    "        \n",
    "    def extract_zip_file(self):\n",
    "        \"\"\"\n",
    "        Extract a zip file to the specified directory.\n",
    "        \n",
    "        Args:\n",
    "            file_path (str): The path of the zip file to unzip.\n",
    "            extract_to (str): The directory to extract the contents to.\n",
    "        \"\"\"\n",
    "        try:\n",
    "            file_path = self.config.local_data_file\n",
    "            extract_to = self.config.unzip_dir\n",
    "            with zipfile.ZipFile(file_path, 'r') as zip_ref:\n",
    "                zip_ref.extractall(extract_to)\n",
    "            logging.info(f\"Unzipped '{file_path}' to '{extract_to}'.\")\n",
    "        except Exception as e:\n",
    "            logging.info(f\"Failed to unzip file from {file_path}. Error: {str(e)}\")\n",
    "            raise CustomException(e, sys)\n",
    "    \n",
    "        \n",
    "            \n",
    "         \n",
    "         "
   ]
  },
  {
   "cell_type": "code",
   "execution_count": 17,
   "metadata": {},
   "outputs": [],
   "source": [
    "try:\n",
    "    config = ConfigurationManager()\n",
    "    data_ingestion_config = config.get_data_ingestion_config()\n",
    "    data_ingestion = DataIngestion(config=data_ingestion_config)\n",
    "    data_ingestion.download_file()\n",
    "    data_ingestion.extract_zip_file()\n",
    "except Exception as e:\n",
    "    logging.info(f\"An error occurred: {str(e)}\")\n",
    "    raise CustomException(e, sys)"
   ]
  }
 ],
 "metadata": {
  "kernelspec": {
   "display_name": "myenv",
   "language": "python",
   "name": "python3"
  },
  "language_info": {
   "codemirror_mode": {
    "name": "ipython",
    "version": 3
   },
   "file_extension": ".py",
   "mimetype": "text/x-python",
   "name": "python",
   "nbconvert_exporter": "python",
   "pygments_lexer": "ipython3",
   "version": "3.9.21"
  }
 },
 "nbformat": 4,
 "nbformat_minor": 2
}
