{
 "cells": [
  {
   "cell_type": "code",
   "execution_count": 1,
   "metadata": {},
   "outputs": [
    {
     "data": {
      "text/plain": [
       "'c:\\\\Users\\\\Dzuels Foundation\\\\mlproject\\\\notebook'"
      ]
     },
     "execution_count": 1,
     "metadata": {},
     "output_type": "execute_result"
    }
   ],
   "source": [
    "%pwd"
   ]
  },
  {
   "cell_type": "code",
   "execution_count": 2,
   "metadata": {},
   "outputs": [
    {
     "name": "stdout",
     "output_type": "stream",
     "text": [
      "c:\\Users\\Dzuels Foundation\\mlproject\n"
     ]
    }
   ],
   "source": [
    "%cd ..\\"
   ]
  },
  {
   "cell_type": "code",
   "execution_count": 6,
   "metadata": {},
   "outputs": [],
   "source": [
    "import requests\n",
    "import os\n",
    "import zipfile\n",
    "import sys\n",
    "import pandas as pd\n",
    "from pathlib import Path\n",
    "from dataclasses import dataclass\n",
    "\n",
    "from src.constant import *\n",
    "from src.logger import logging\n",
    "from src.exception import CustomException\n",
    "from src.utils import read_yaml,create_directory\n"
   ]
  },
  {
   "cell_type": "code",
   "execution_count": 7,
   "metadata": {},
   "outputs": [],
   "source": [
    "@dataclass(frozen=True)\n",
    "class DataValidationConfig:\n",
    "    \"\"\"\n",
    "    Data validation Configuration\n",
    "    \"\"\"\n",
    "\n",
    "    root_dir: Path\n",
    "    data_file: Path\n",
    "    status: str\n",
    "    all_schema: dict\n",
    "    "
   ]
  },
  {
   "cell_type": "code",
   "execution_count": 8,
   "metadata": {},
   "outputs": [],
   "source": [
    "class ConfigurationManager:\n",
    "    def __init__(self, \n",
    "                 config_file_path=CONFIG_FILE_PATH,\n",
    "                 schema_file_path=SCHEMA_FILE_PATH\n",
    "                 ):\n",
    "        self.config = read_yaml(config_file_path)\n",
    "        self.schema = read_yaml(schema_file_path)\n",
    "                \n",
    "        create_directory(self.config.artifact_root)\n",
    "    def get_data_validation_config(self) -> DataValidationConfig:\n",
    "        config = self.config.data_validation\n",
    "        all_schema = self.schema.COLUMNS\n",
    "        \n",
    "        create_directory(config.root_dir)\n",
    "        \n",
    "        data_validation_config = DataValidationConfig(\n",
    "            root_dir=config.root_dir,\n",
    "            data_file=config.data_file,\n",
    "            status=config.status,\n",
    "            all_schema=all_schema\n",
    "        )\n",
    "        \n",
    "        return data_validation_config\n",
    "        \n",
    "        \n"
   ]
  },
  {
   "cell_type": "code",
   "execution_count": 9,
   "metadata": {},
   "outputs": [],
   "source": [
    "class DataValidation:\n",
    "    def __init__(self, config:DataValidationConfig):\n",
    "        self.config = config\n",
    "\n",
    "    def validate_data(self):\n",
    "        try:\n",
    "            logging.info(\"Data Validation started\")\n",
    "            data = pd.read_csv(self.config.data_file)\n",
    "            data = data.drop(columns=[\"Id\"], axis=1, errors='ignore')  \n",
    "            columns = set(data.columns)\n",
    "            all_schema = set(self.config.all_schema.keys())\n",
    "\n",
    "            # Check if all required columns are present\n",
    "            missing_columns = all_schema - columns\n",
    "            extra_columns = columns - all_schema\n",
    "\n",
    "            if missing_columns:\n",
    "                logging.info(f\"Missing columns: {missing_columns}\")\n",
    "                validation_status = False\n",
    "            elif extra_columns:\n",
    "                logging.info(f\"Unexpected extra columns: {extra_columns}\")\n",
    "                validation_status = False  \n",
    "            else:\n",
    "                validation_status = True\n",
    "            \n",
    "            with open(self.config.status, \"w\") as f:\n",
    "                f.write(f\"validation_status:{validation_status}\")\n",
    "\n",
    "            logging.info(\"Data Validation completed successfully\")\n",
    "\n",
    "        except Exception as e:\n",
    "            logging.error(\"Error in data validation\")\n",
    "            logging.error(e)\n",
    "            raise CustomException(e, sys)"
   ]
  },
  {
   "cell_type": "code",
   "execution_count": 10,
   "metadata": {},
   "outputs": [
    {
     "name": "stdout",
     "output_type": "stream",
     "text": [
      "[2025-04-07 14:37:40,356] : root : INFO: yaml file: config\\config.yaml loaded successfully\n",
      "[2025-04-07 14:37:40,414] : root : INFO: yaml file: schema.yaml loaded successfully\n",
      "[2025-04-07 14:37:40,416] : root : INFO: Directory 'artifact' already exists.\n",
      "[2025-04-07 14:37:40,419] : root : INFO: Directory 'artifact/data_validation' created.\n",
      "[2025-04-07 14:37:40,419] : root : INFO: Data Validation started\n",
      "[2025-04-07 14:37:40,658] : root : INFO: Data Validation completed successfully\n"
     ]
    }
   ],
   "source": [
    "try:\n",
    "    config = ConfigurationManager()\n",
    "    data_validation_config = config.get_data_validation_config()\n",
    "    data_validation = DataValidation(config=data_validation_config)\n",
    "    data_validation.validate_data()\n",
    "except Exception as e:\n",
    "    logging.info(\"Error in data validation\")\n",
    "    logging.info(e)\n",
    "    logging.info(\"Data validation failed\")\n",
    "    raise CustomException(e, sys)"
   ]
  }
 ],
 "metadata": {
  "kernelspec": {
   "display_name": "myenv",
   "language": "python",
   "name": "python3"
  },
  "language_info": {
   "codemirror_mode": {
    "name": "ipython",
    "version": 3
   },
   "file_extension": ".py",
   "mimetype": "text/x-python",
   "name": "python",
   "nbconvert_exporter": "python",
   "pygments_lexer": "ipython3",
   "version": "3.9.21"
  }
 },
 "nbformat": 4,
 "nbformat_minor": 2
}
