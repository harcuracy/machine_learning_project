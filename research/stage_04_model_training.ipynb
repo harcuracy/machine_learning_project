{
 "cells": [
  {
   "cell_type": "code",
   "execution_count": 11,
   "id": "d8a08168",
   "metadata": {},
   "outputs": [
    {
     "data": {
      "text/plain": [
       "'c:\\\\Users\\\\Dzuels Foundation\\\\mlproject\\\\notebook'"
      ]
     },
     "execution_count": 11,
     "metadata": {},
     "output_type": "execute_result"
    }
   ],
   "source": [
    "%pwd"
   ]
  },
  {
   "cell_type": "code",
   "execution_count": 12,
   "id": "5f2746e9",
   "metadata": {},
   "outputs": [
    {
     "name": "stdout",
     "output_type": "stream",
     "text": [
      "c:\\Users\\Dzuels Foundation\\mlproject\n"
     ]
    }
   ],
   "source": [
    "%cd ..\\\n"
   ]
  },
  {
   "cell_type": "code",
   "execution_count": 8,
   "id": "16197166",
   "metadata": {},
   "outputs": [],
   "source": [
    "import requests\n",
    "import os\n",
    "import sys\n",
    "import pandas as pd\n",
    "from pathlib import Path\n",
    "from dataclasses import dataclass\n",
    "\n",
    "from sklearn.model_selection import train_test_split\n",
    "from sklearn.linear_model import ElasticNet\n",
    "from joblib import dump\n",
    "\n",
    "from src.constant import *\n",
    "from src.logger import logging\n",
    "from src.exception import CustomException\n",
    "from src.utils import read_yaml,create_directory\n"
   ]
  },
  {
   "cell_type": "code",
   "execution_count": 4,
   "id": "5eef1959",
   "metadata": {},
   "outputs": [],
   "source": [
    "@dataclass(frozen=True)\n",
    "class ModelTrainingConfig:\n",
    "    \"\"\"\n",
    "    Data Model Training Configuration\n",
    "    \"\"\"\n",
    "\n",
    "    root_dir: Path\n",
    "    train_data_file: Path\n",
    "    model_file: Path\n",
    "    all_params: dict\n",
    "    target_column: str\n",
    "    "
   ]
  },
  {
   "cell_type": "code",
   "execution_count": null,
   "id": "54d85653",
   "metadata": {},
   "outputs": [],
   "source": [
    "class ConfigurationManager:\n",
    "    def __init__(self, \n",
    "                 config_file_path=CONFIG_FILE_PATH,\n",
    "                 schema_file_path=SCHEMA_FILE_PATH,\n",
    "                 params_file_path=PARAMS_FILE_PATH,\n",
    "                 ):\n",
    "        self.config = read_yaml(config_file_path)\n",
    "        self.schema = read_yaml(schema_file_path)\n",
    "        self.params = read_yaml(params_file_path)\n",
    "                \n",
    "        create_directory(self.config.artifact_root)\n",
    "        \n",
    "    def get_model_trainer_config(self) -> ModelTrainingConfig:\n",
    "        \"\"\"\n",
    "        Returns the Model Training Configuration\n",
    "        \"\"\"\n",
    "        root_dir = self.config.model_training.root_dir\n",
    "        all_params = self.params.PARAMETERS.model.params\n",
    "        target_column = self.schema.TARGET_COLUMN.name\n",
    "        train_data_file = self.config.model_training.train_data_file\n",
    "        model_file = self.config.model_training.model_file\n",
    "        \n",
    "        \n",
    "        create_directory(self.config.model_training.root_dir)\n",
    "        \n",
    "        model_training_config = ModelTrainingConfig(\n",
    "            root_dir=root_dir,\n",
    "            train_data_file=train_data_file,\n",
    "            model_file=model_file,\n",
    "            all_params=all_params,\n",
    "            target_column=target_column\n",
    "        )\n",
    "        \n",
    "        return model_training_config\n",
    "        \n",
    "        \n",
    "        \n",
    "        "
   ]
  },
  {
   "cell_type": "code",
   "execution_count": null,
   "id": "1d41ada9",
   "metadata": {},
   "outputs": [],
   "source": [
    "class ModelTrainer:\n",
    "    def __init__(self, config: ModelTrainingConfig):\n",
    "        self.config = config\n",
    "        \n",
    "    def train_model(self):\n",
    "        try:\n",
    "            logging.info(\"Loading data\")\n",
    "            df = pd.read_csv(self.config.train_data_file)\n",
    "            \n",
    "            X = df.drop(columns=[self.config.target_column])\n",
    "            y = df[self.config.target_column]\n",
    "            model = ElasticNet(\n",
    "                alpha=self.config.all_params.alpha,\n",
    "                l1_ratio=self.config.all_params.l1_ratio,\n",
    "                random_state=42\n",
    "            )\n",
    "            model.fit(X, y)\n",
    "            logging.info(\"Model training completed\")\n",
    "            \n",
    "            logging.info(\"Saving the trained model\")\n",
    "            # Save the model to the specified path\n",
    "            dump(model, self.config.model_file)\n",
    "            logging.info(f\"Model saved at {self.config.model_file}\")\n",
    "            \n",
    "        except Exception as e:\n",
    "            raise CustomException(e, sys)"
   ]
  },
  {
   "cell_type": "code",
   "execution_count": 13,
   "id": "2ccbdc69",
   "metadata": {},
   "outputs": [
    {
     "name": "stdout",
     "output_type": "stream",
     "text": [
      "[2025-04-08 13:30:24,593] : root : INFO: yaml file: config\\config.yaml loaded successfully\n",
      "[2025-04-08 13:30:24,734] : root : INFO: yaml file: schema.yaml loaded successfully\n",
      "[2025-04-08 13:30:24,736] : root : INFO: yaml file: params.yaml loaded successfully\n",
      "[2025-04-08 13:30:24,761] : root : INFO: Directory 'artifact' already exists.\n",
      "[2025-04-08 13:30:24,762] : root : INFO: Directory 'artifact/model_training' created.\n",
      "[2025-04-08 13:30:24,762] : root : INFO: Loading data\n",
      "[2025-04-08 13:30:25,410] : root : INFO: Model training completed\n",
      "[2025-04-08 13:30:25,411] : root : INFO: Saving the trained model\n"
     ]
    }
   ],
   "source": [
    "try:\n",
    "    config_manager = ConfigurationManager()\n",
    "    model_trainer_config = config_manager.get_model_trainer_config()\n",
    "    model_trainer = ModelTrainer(model_trainer_config)\n",
    "    model_trainer.train_model()\n",
    "except Exception as e:\n",
    "    logging.error(f\"Error occurred during model training: {str(e)}\")\n",
    "    raise CustomException(e, sys)"
   ]
  }
 ],
 "metadata": {
  "kernelspec": {
   "display_name": "myenv",
   "language": "python",
   "name": "python3"
  },
  "language_info": {
   "codemirror_mode": {
    "name": "ipython",
    "version": 3
   },
   "file_extension": ".py",
   "mimetype": "text/x-python",
   "name": "python",
   "nbconvert_exporter": "python",
   "pygments_lexer": "ipython3",
   "version": "3.9.21"
  }
 },
 "nbformat": 4,
 "nbformat_minor": 5
}
