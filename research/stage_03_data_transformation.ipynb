{
 "cells": [
  {
   "cell_type": "code",
   "execution_count": 1,
   "id": "30638cd2",
   "metadata": {},
   "outputs": [
    {
     "data": {
      "text/plain": [
       "'c:\\\\Users\\\\Dzuels Foundation\\\\mlproject\\\\notebook'"
      ]
     },
     "execution_count": 1,
     "metadata": {},
     "output_type": "execute_result"
    }
   ],
   "source": [
    "%pwd"
   ]
  },
  {
   "cell_type": "code",
   "execution_count": 2,
   "id": "62eee5ea",
   "metadata": {},
   "outputs": [
    {
     "name": "stdout",
     "output_type": "stream",
     "text": [
      "c:\\Users\\Dzuels Foundation\\mlproject\n"
     ]
    }
   ],
   "source": [
    "%cd ..\\"
   ]
  },
  {
   "cell_type": "code",
   "execution_count": 6,
   "id": "00325f7e",
   "metadata": {},
   "outputs": [],
   "source": [
    "import requests\n",
    "import os\n",
    "import sys\n",
    "import pandas as pd\n",
    "from pathlib import Path\n",
    "from dataclasses import dataclass\n",
    "from sklearn.model_selection import train_test_split\n",
    "\n",
    "from src.constant import *\n",
    "from src.logger import logging\n",
    "from src.exception import CustomException\n",
    "from src.utils import read_yaml,create_directory\n"
   ]
  },
  {
   "cell_type": "code",
   "execution_count": null,
   "id": "527b2b87",
   "metadata": {},
   "outputs": [],
   "source": [
    "@dataclass(frozen=True)\n",
    "class DataTransformationConfig:\n",
    "    \"\"\"\n",
    "    Data Transformation Configuration\n",
    "    \"\"\"\n",
    "\n",
    "    root_dir: Path\n",
    "    input_file: Path\n",
    "    "
   ]
  },
  {
   "cell_type": "code",
   "execution_count": 5,
   "id": "de58cf11",
   "metadata": {},
   "outputs": [],
   "source": [
    "class ConfigurationManager:\n",
    "    def __init__(self, \n",
    "                 config_file_path=CONFIG_FILE_PATH,\n",
    "                 schema_file_path=SCHEMA_FILE_PATH\n",
    "                 ):\n",
    "        self.config = read_yaml(config_file_path)\n",
    "        self.schema = read_yaml(schema_file_path)\n",
    "                \n",
    "        create_directory(self.config.artifact_root)\n",
    "        \n",
    "    def get_data_transformation_config(self):\n",
    "        config = self.config.data_transformation\n",
    "        \n",
    "        create_directory(config.root_dir)\n",
    "        \n",
    "        data_transformation_config = DataTransformationConfig(\n",
    "            root_dir=config.root_dir,\n",
    "            input_file= config.input_file\n",
    "        )\n",
    "        return data_transformation_config"
   ]
  },
  {
   "cell_type": "code",
   "execution_count": null,
   "id": "cc9e6404",
   "metadata": {},
   "outputs": [],
   "source": [
    "class DataTransformation:\n",
    "    def __init__(self, config: DataTransformationConfig):\n",
    "        self.config = config\n",
    "    \n",
    "    def transform_data(self):\n",
    "        try:\n",
    "            logging.info(\"Data Transformation started\")\n",
    "            df = pd.read_csv(self.config.input_file)\n",
    "            train_df,test_df = train_test_split(df, random_state=42, test_size=0.2)\n",
    "            train_df.to_csv(os.path.join(self.config.root_dir, \"train.csv\"), index=False)\n",
    "            test_df.to_csv(os.path.join(self.config.root_dir, \"test.csv\"), index=False)\n",
    "            logging.info(\"Data Transformation completed successfully.\")\n",
    "            return train_df, test_df\n",
    "        except Exception as e:\n",
    "            raise CustomException(e, sys)\n",
    "         \n",
    "            \n",
    "        "
   ]
  },
  {
   "cell_type": "code",
   "execution_count": 9,
   "id": "f4fb0a15",
   "metadata": {},
   "outputs": [
    {
     "name": "stdout",
     "output_type": "stream",
     "text": [
      "[2025-04-07 15:29:06,284] : root : INFO: yaml file: config\\config.yaml loaded successfully\n",
      "[2025-04-07 15:29:06,290] : root : INFO: yaml file: schema.yaml loaded successfully\n",
      "[2025-04-07 15:29:06,290] : root : INFO: Directory 'artifact' already exists.\n",
      "[2025-04-07 15:29:06,301] : root : INFO: Directory 'artifact/data_transformation' created.\n",
      "[2025-04-07 15:29:06,303] : root : INFO: Data Transformation started\n",
      "[2025-04-07 15:29:06,617] : root : INFO: Data Transformation completed successfully.\n"
     ]
    }
   ],
   "source": [
    "try:\n",
    "    config_manager = ConfigurationManager()\n",
    "    data_transformation_config = config_manager.get_data_transformation_config()\n",
    "    data_transformation = DataTransformation(config=data_transformation_config)\n",
    "    train_df, test_df = data_transformation.transform_data()\n",
    "\n",
    "except Exception as e:\n",
    "    logging.error(f\"Error occurred during data transformation: {e}\")\n",
    "    raise CustomException(e, sys)"
   ]
  }
 ],
 "metadata": {
  "kernelspec": {
   "display_name": "myenv",
   "language": "python",
   "name": "python3"
  },
  "language_info": {
   "codemirror_mode": {
    "name": "ipython",
    "version": 3
   },
   "file_extension": ".py",
   "mimetype": "text/x-python",
   "name": "python",
   "nbconvert_exporter": "python",
   "pygments_lexer": "ipython3",
   "version": "3.9.21"
  }
 },
 "nbformat": 4,
 "nbformat_minor": 5
}
